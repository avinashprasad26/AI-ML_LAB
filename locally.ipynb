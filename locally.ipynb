{
  "nbformat": 4,
  "nbformat_minor": 0,
  "metadata": {
    "colab": {
      "name": "locally.ipynb",
      "provenance": []
    },
    "kernelspec": {
      "name": "python3",
      "display_name": "Python 3"
    },
    "language_info": {
      "name": "python"
    }
  },
  "cells": [
    {
      "cell_type": "code",
      "execution_count": 11,
      "metadata": {
        "id": "39CoZG6C3KUa"
      },
      "outputs": [],
      "source": [
        "import numpy as np\n",
        "import pandas as pd\n",
        "import matplotlib.pyplot as plt\n",
        "def kernel(point,xmat,k):\n",
        "  m,n = np.shape(xmat)\n",
        "  weights = np.mat(np.eye((m)))\n",
        "  for j in range(m):\n",
        "    diff=point-X[j]\n",
        "    weights[j,j] = np.exp(diff*diff.T/(-2.0*k**2))\n",
        "  return weights"
      ]
    },
    {
      "cell_type": "code",
      "source": [
        "def localweight(point,xmat,ymat,k):\n",
        "  wei = kernel(point,xmat,k)\n",
        "  w = (X.T*(wei*X)).I*(X.T*(wei*ymat.T))\n",
        "  return w"
      ],
      "metadata": {
        "id": "k1vScKyanyhM"
      },
      "execution_count": 12,
      "outputs": []
    },
    {
      "cell_type": "code",
      "source": [
        "def localweightregression(xmat,ymat,k):\n",
        "  m,n = np.shape(xmat)\n",
        "  ypred = np.zeros(m)\n",
        "  for i in range(m):\n",
        "    ypred[i] = xmat[i]*localweight(xmat[i],xmat,ymat,k)\n",
        "  return ypred"
      ],
      "metadata": {
        "id": "pNbR6_8Lo65C"
      },
      "execution_count": 13,
      "outputs": []
    },
    {
      "cell_type": "code",
      "source": [
        "def graphplot(X,ypred):\n",
        "  SortIndex = X[:,1].argsort(0)\n",
        "  XSort = X[SortIndex][:,0]\n",
        "  fig = plt.figure()\n",
        "  ax = fig.add_subplot(1,1,1)\n",
        "  ax.scatter(bill,tip,color='green')\n",
        "  ax.plot(XSort[:,1],ypred[SortIndex],color='red',linewidth=5)\n",
        "  plt.xlabel('Total_bill')\n",
        "  plt.ylabel('Tip')\n",
        "  plt.show()"
      ],
      "metadata": {
        "id": "Hw-QwxRXpqJ-"
      },
      "execution_count": 14,
      "outputs": []
    },
    {
      "cell_type": "code",
      "source": [
        "data=pd.read_csv('/content/10data_tips.csv')\n",
        "bill=np.array(data.total_bill)\n",
        "tip=np.array(data.tip)\n",
        "mbill=np.mat(bill)\n",
        "mtip=np.mat(tip)\n",
        "m = np.shape(mbill)[1]\n",
        "one = np.mat(np.ones(m))\n",
        "X = np.hstack((one.T,mbill.T))\n",
        "ypred = localweightregression(X,mtip,8)\n",
        "graphplot(X,ypred)"
      ],
      "metadata": {
        "colab": {
          "base_uri": "https://localhost:8080/",
          "height": 280
        },
        "id": "6eg8OkCssvXR",
        "outputId": "b5e09865-430d-47e6-e1b9-65ce56a9cbd1"
      },
      "execution_count": 15,
      "outputs": [
        {
          "output_type": "display_data",
          "data": {
            "text/plain": [
              "<Figure size 432x288 with 1 Axes>"
            ],
            "image/png": "[encoded data removed]"
          },
          "metadata": {
            "needs_background": "light"
          }
        }
      ]
    }
  ]
}